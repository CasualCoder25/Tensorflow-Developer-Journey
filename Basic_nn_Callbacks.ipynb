{
 "cells": [
  {
   "cell_type": "markdown",
   "metadata": {},
   "source": [
    "# Implementing Callbacks\n",
    "\n",
    "- In this exercise, we will train out model \n",
    "- During the end of each epoch the `on_epoch_end` function is called from the defined `myCallback` class\n",
    "- If the Desired accuracy is attained, then the model training is brought to a halt"
   ]
  },
  {
   "cell_type": "code",
   "execution_count": 1,
   "metadata": {},
   "outputs": [
    {
     "name": "stdout",
     "output_type": "stream",
     "text": [
      "2.10.0\n"
     ]
    }
   ],
   "source": [
    "import tensorflow as tf\n",
    "\n",
    "print(tf.__version__)"
   ]
  },
  {
   "cell_type": "markdown",
   "metadata": {},
   "source": [
    "### Importing the data set:\n",
    "\n",
    "- Let us now import the data using the `fasion_mnist` dataset from `tensorflow.keras.datasets` library"
   ]
  },
  {
   "cell_type": "code",
   "execution_count": 2,
   "metadata": {},
   "outputs": [],
   "source": [
    "fmnist=tf.keras.datasets.fashion_mnist"
   ]
  },
  {
   "cell_type": "code",
   "execution_count": 3,
   "metadata": {},
   "outputs": [],
   "source": [
    "(training_images,training_labels),(testing_images,testing_labels)=fmnist.load_data()"
   ]
  },
  {
   "cell_type": "markdown",
   "metadata": {},
   "source": [
    "Let us have a look at the first data Item"
   ]
  },
  {
   "cell_type": "code",
   "execution_count": 4,
   "metadata": {},
   "outputs": [
    {
     "name": "stdout",
     "output_type": "stream",
     "text": [
      "LABEL: 9\n",
      "\n",
      "IMAGE PIXEL ARRAY:\n",
      " [[  0   0   0   0   0   0   0   0   0   0   0   0   0   0   0   0   0   0   0   0   0   0   0   0   0   0   0   0]\n",
      " [  0   0   0   0   0   0   0   0   0   0   0   0   0   0   0   0   0   0   0   0   0   0   0   0   0   0   0   0]\n",
      " [  0   0   0   0   0   0   0   0   0   0   0   0   0   0   0   0   0   0   0   0   0   0   0   0   0   0   0   0]\n",
      " [  0   0   0   0   0   0   0   0   0   0   0   0   1   0   0  13  73   0   0   1   4   0   0   0   0   1   1   0]\n",
      " [  0   0   0   0   0   0   0   0   0   0   0   0   3   0  36 136 127  62  54   0   0   0   1   3   4   0   0   3]\n",
      " [  0   0   0   0   0   0   0   0   0   0   0   0   6   0 102 204 176 134 144 123  23   0   0   0   0  12  10   0]\n",
      " [  0   0   0   0   0   0   0   0   0   0   0   0   0   0 155 236 207 178 107 156 161 109  64  23  77 130  72  15]\n",
      " [  0   0   0   0   0   0   0   0   0   0   0   1   0  69 207 223 218 216 216 163 127 121 122 146 141  88 172  66]\n",
      " [  0   0   0   0   0   0   0   0   0   1   1   1   0 200 232 232 233 229 223 223 215 213 164 127 123 196 229   0]\n",
      " [  0   0   0   0   0   0   0   0   0   0   0   0   0 183 225 216 223 228 235 227 224 222 224 221 223 245 173   0]\n",
      " [  0   0   0   0   0   0   0   0   0   0   0   0   0 193 228 218 213 198 180 212 210 211 213 223 220 243 202   0]\n",
      " [  0   0   0   0   0   0   0   0   0   1   3   0  12 219 220 212 218 192 169 227 208 218 224 212 226 197 209  52]\n",
      " [  0   0   0   0   0   0   0   0   0   0   6   0  99 244 222 220 218 203 198 221 215 213 222 220 245 119 167  56]\n",
      " [  0   0   0   0   0   0   0   0   0   4   0   0  55 236 228 230 228 240 232 213 218 223 234 217 217 209  92   0]\n",
      " [  0   0   1   4   6   7   2   0   0   0   0   0 237 226 217 223 222 219 222 221 216 223 229 215 218 255  77   0]\n",
      " [  0   3   0   0   0   0   0   0   0  62 145 204 228 207 213 221 218 208 211 218 224 223 219 215 224 244 159   0]\n",
      " [  0   0   0   0  18  44  82 107 189 228 220 222 217 226 200 205 211 230 224 234 176 188 250 248 233 238 215   0]\n",
      " [  0  57 187 208 224 221 224 208 204 214 208 209 200 159 245 193 206 223 255 255 221 234 221 211 220 232 246   0]\n",
      " [  3 202 228 224 221 211 211 214 205 205 205 220 240  80 150 255 229 221 188 154 191 210 204 209 222 228 225   0]\n",
      " [ 98 233 198 210 222 229 229 234 249 220 194 215 217 241  65  73 106 117 168 219 221 215 217 223 223 224 229  29]\n",
      " [ 75 204 212 204 193 205 211 225 216 185 197 206 198 213 240 195 227 245 239 223 218 212 209 222 220 221 230  67]\n",
      " [ 48 203 183 194 213 197 185 190 194 192 202 214 219 221 220 236 225 216 199 206 186 181 177 172 181 205 206 115]\n",
      " [  0 122 219 193 179 171 183 196 204 210 213 207 211 210 200 196 194 191 195 191 198 192 176 156 167 177 210  92]\n",
      " [  0   0  74 189 212 191 175 172 175 181 185 188 189 188 193 198 204 209 210 210 211 188 188 194 192 216 170   0]\n",
      " [  2   0   0   0  66 200 222 237 239 242 246 243 244 221 220 193 191 179 182 182 181 176 166 168  99  58   0   0]\n",
      " [  0   0   0   0   0   0   0  40  61  44  72  41  35   0   0   0   0   0   0   0   0   0   0   0   0   0   0   0]\n",
      " [  0   0   0   0   0   0   0   0   0   0   0   0   0   0   0   0   0   0   0   0   0   0   0   0   0   0   0   0]\n",
      " [  0   0   0   0   0   0   0   0   0   0   0   0   0   0   0   0   0   0   0   0   0   0   0   0   0   0   0   0]]\n"
     ]
    },
    {
     "data": {
      "text/plain": [
       "<matplotlib.image.AxesImage at 0x16ac32e2640>"
      ]
     },
     "execution_count": 4,
     "metadata": {},
     "output_type": "execute_result"
    },
    {
     "data": {
      "image/png": "[encoded data removed]",
      "text/plain": [
       "<Figure size 640x480 with 1 Axes>"
      ]
     },
     "metadata": {},
     "output_type": "display_data"
    }
   ],
   "source": [
    "import numpy as np\n",
    "import matplotlib.pyplot as plt\n",
    "\n",
    "index=0\n",
    "\n",
    "np.set_printoptions(linewidth=320)\n",
    "\n",
    "print(f\"LABEL: {training_labels[index]}\")\n",
    "print(f\"\\nIMAGE PIXEL ARRAY:\\n {training_images[index]}\")\n",
    "\n",
    "plt.imshow(training_images[index],cmap='gray')"
   ]
  },
  {
   "cell_type": "markdown",
   "metadata": {},
   "source": [
    "### Normalization\n",
    "\n",
    "- Normalization is very important for the efficient computation of weights and biases in our neural networks\n",
    "- They help in emphasising equal representation of features in the neural network and also support easy implementation of reularization of parameters"
   ]
  },
  {
   "cell_type": "code",
   "execution_count": 5,
   "metadata": {},
   "outputs": [],
   "source": [
    "training_images=training_images/255\n",
    "testing_images=testing_images/255"
   ]
  },
  {
   "cell_type": "markdown",
   "metadata": {},
   "source": [
    "### Softmax Funtion\n",
    "\n",
    "- Softmax funtion uses the array of input values and outputs the probabibility of occurence of each\n",
    "- It does so by taking `z= w.x +b` values applying the softmax function on them\n",
    "\n",
    "softmax function: `np.exp(z1)/np.sum(np.exp(z1)+np.exp(z2)+...+np.exp(zn))`"
   ]
  },
  {
   "cell_type": "code",
   "execution_count": 6,
   "metadata": {},
   "outputs": [
    {
     "name": "stdout",
     "output_type": "stream",
     "text": [
      "Inputs to softmax function: [[1. 2. 3. 4.]]\n",
      "Outputs from softmax funtion: [[0.0320586  0.08714432 0.23688282 0.64391426]]\n",
      "Sum of outputs: 1.0\n",
      "Class with highest probability: 3\n"
     ]
    }
   ],
   "source": [
    "inputs=np.array([[1.0,2.0,3.0,4.0]])\n",
    "inputs=tf.convert_to_tensor(inputs)\n",
    "print(f\"Inputs to softmax function: {inputs.numpy()}\")\n",
    "\n",
    "outputs=tf.keras.activations.softmax(inputs)\n",
    "print(f\"Outputs from softmax funtion: {outputs.numpy()}\")\n",
    "\n",
    "sum=tf.reduce_sum(outputs)\n",
    "print(f\"Sum of outputs: {sum}\")\n",
    "\n",
    "prediction=np.argmax(outputs)\n",
    "print(f\"Class with highest probability: {prediction}\")"
   ]
  },
  {
   "cell_type": "markdown",
   "metadata": {},
   "source": [
    "### Callbacks:\n",
    "\n",
    "- Callbacks can be used for early termination of the training process\n",
    "- The training can be terminated by setting the `seft.model.stop_training` parameter to `True`\n",
    "- Usual implementations include calling the `Callback` after each epoch execution"
   ]
  },
  {
   "cell_type": "code",
   "execution_count": 7,
   "metadata": {},
   "outputs": [],
   "source": [
    "class myCallback(tf.keras.callbacks.Callback):\n",
    "    def on_epoch_end(self,epoch,logs={}):\n",
    "        if(logs.get('accuracy')>=0.91):\n",
    "            print(\"\\nRequired Accuracy reached!\")\n",
    "            self.model.stop_training=True\n",
    "\n",
    "callbacks=myCallback()\n",
    "            "
   ]
  },
  {
   "cell_type": "markdown",
   "metadata": {},
   "source": [
    "### Neural Network Architecture:\n",
    "\n",
    "- Here the network comprises of;\n",
    "    1. `Flatten()`\n",
    "    2. `Dense(units=layer1,activation=tf.nn.relu,kernel_regularizer=tf.keras.regularizers.L2(0.000001))`\n",
    "    3. `Dense(units=10,activation=tf.nn.softmax,kernel_regularizer=tf.keras.regularizers.L2(0.000001))`\n",
    "- The model is the compiled with;\n",
    "    1. loss=`SparseCategoricalCrossentropy()`\n",
    "    2. optimizer=`Adam()`\n",
    "    3. metrics=`['accuracy']`\n",
    "- Finally the model is trained with the `x` and `y` labels and the resulting network is evaluated using the `evaluate` function "
   ]
  },
  {
   "cell_type": "code",
   "execution_count": 9,
   "metadata": {},
   "outputs": [
    {
     "name": "stdout",
     "output_type": "stream",
     "text": [
      "Epoch 1/10\n",
      "1875/1875 [==============================] - 13s 6ms/step - loss: 0.4703 - accuracy: 0.8321\n",
      "Epoch 2/10\n",
      "1875/1875 [==============================] - 11s 6ms/step - loss: 0.3565 - accuracy: 0.8706\n",
      "Epoch 3/10\n",
      "1875/1875 [==============================] - 11s 6ms/step - loss: 0.3238 - accuracy: 0.8823\n",
      "Epoch 4/10\n",
      "1875/1875 [==============================] - 11s 6ms/step - loss: 0.3017 - accuracy: 0.8895\n",
      "Epoch 5/10\n",
      "1875/1875 [==============================] - 11s 6ms/step - loss: 0.2829 - accuracy: 0.8965\n",
      "Epoch 6/10\n",
      "1875/1875 [==============================] - 11s 6ms/step - loss: 0.2667 - accuracy: 0.9023\n",
      "Epoch 7/10\n",
      "1875/1875 [==============================] - 11s 6ms/step - loss: 0.2588 - accuracy: 0.9059\n",
      "Epoch 8/10\n",
      "1875/1875 [==============================] - 11s 6ms/step - loss: 0.2450 - accuracy: 0.9088\n",
      "Epoch 9/10\n",
      "1870/1875 [============================>.] - ETA: 0s - loss: 0.2369 - accuracy: 0.9137\n",
      "Required Accuracy reached!\n",
      "1875/1875 [==============================] - 11s 6ms/step - loss: 0.2368 - accuracy: 0.9137\n",
      "1875/1875 [==============================] - 10s 5ms/step - loss: 0.2117 - accuracy: 0.9249\n",
      "[0.21168673038482666, 0.9248666763305664]\n",
      "313/313 [==============================] - 2s 5ms/step - loss: 0.3285 - accuracy: 0.8855\n",
      "[0.32847175002098083, 0.8855000138282776]\n"
     ]
    }
   ],
   "source": [
    "layer1=1024\n",
    "\n",
    "tf.random.set_seed(1)\n",
    "model=tf.keras.Sequential([\n",
    "    tf.keras.layers.Flatten(),\n",
    "    tf.keras.layers.Dense(units=layer1,activation=tf.nn.relu,kernel_regularizer=tf.keras.regularizers.L2(0.000001)),\n",
    "    tf.keras.layers.Dense(units=10,activation=tf.nn.softmax,kernel_regularizer=tf.keras.regularizers.L2(0.000001))\n",
    "])\n",
    "\n",
    "model.compile(\n",
    "    loss=tf.keras.losses.SparseCategoricalCrossentropy(),\n",
    "    optimizer=tf.keras.optimizers.Adam(),\n",
    "    metrics=['accuracy']\n",
    ")\n",
    "\n",
    "model.fit(training_images,training_labels,epochs=10,callbacks=[callbacks])\n",
    "\n",
    "print(model.evaluate(training_images,training_labels))\n",
    "print(model.evaluate(testing_images,testing_labels))"
   ]
  },
  {
   "cell_type": "code",
   "execution_count": null,
   "metadata": {},
   "outputs": [],
   "source": []
  }
 ],
 "metadata": {
  "kernelspec": {
   "display_name": "py39",
   "language": "python",
   "name": "python3"
  },
  "language_info": {
   "codemirror_mode": {
    "name": "ipython",
    "version": 3
   },
   "file_extension": ".py",
   "mimetype": "text/x-python",
   "name": "python",
   "nbconvert_exporter": "python",
   "pygments_lexer": "ipython3",
   "version": "3.9.17"
  },
  "orig_nbformat": 4
 },
 "nbformat": 4,
 "nbformat_minor": 2
}
